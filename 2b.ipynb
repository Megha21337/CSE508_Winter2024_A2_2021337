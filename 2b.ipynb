{
 "cells": [
  {
   "cell_type": "markdown",
   "metadata": {},
   "source": [
    "Calculating TF-IDF score and mentioning the score\n"
   ]
  },
  {
   "cell_type": "code",
   "execution_count": 6,
   "metadata": {},
   "outputs": [],
   "source": [
    "import pandas as pd\n",
    "import numpy as np\n",
    "\n",
    "df = pd.read_csv('A2_Data_with_Processed_Review.csv')\n",
    "df['Processed_Review'] = df['Processed_Review'].fillna('')\n",
    "tokenized_reviews = df['Processed_Review'].apply(lambda x: x.split())\n",
    "vocabulary = set()\n",
    "for review in tokenized_reviews:\n",
    "    vocabulary.update(review)\n",
    "\n",
    "vocabulary_list = list(vocabulary)\n",
    "\n",
    "tf_matrix = pd.DataFrame(0, index=df.index, columns=vocabulary_list)\n",
    "for i, review in enumerate(tokenized_reviews):\n",
    "    for word in review:\n",
    "        tf_matrix.loc[i, word] += 1\n",
    "tf_matrix = tf_matrix.div(tf_matrix.sum(axis=1), axis=0)  \n",
    "\n",
    "\n",
    "df_matrix = pd.DataFrame(0, index=[0], columns=vocabulary_list)\n",
    "for review in tokenized_reviews:\n",
    "    for word in set(review):\n",
    "        df_matrix.loc[0, word] += 1\n",
    "\n",
    "N = len(tokenized_reviews)\n",
    "idf_matrix = np.log(N / (1 + df_matrix))\n",
    "tfidf_matrix = tf_matrix * idf_matrix.values\n",
    "df = pd.concat([df, tfidf_matrix], axis=1)\n",
    "df.to_csv('A2_Data_Tfidf.csv', index=False)\n"
   ]
  },
  {
   "cell_type": "code",
   "execution_count": 4,
   "metadata": {},
   "outputs": [],
   "source": [
    "import pandas as pd\n",
    "import numpy as np\n",
    "import json\n",
    "\n",
    "# Load the data\n",
    "df = pd.read_csv('A2_Data_Tfidf.csv')\n",
    "\n",
    "tfidf_json = {\n",
    "    \"labels\": df.columns.tolist(),\n",
    "    \"TF-IDF\": {}\n",
    "}\n",
    "\n",
    "for i, row in df.iterrows():\n",
    "    document_id = f\"document_{i}\"\n",
    "    tfidf_json[\"TF-IDF\"][document_id] = row.dropna().to_dict()\n",
    "\n",
    "with open('TF-IDF_scores.json', 'w') as json_file:\n",
    "    json.dump(tfidf_json, json_file, indent=2)\n"
   ]
  }
 ],
 "metadata": {
  "kernelspec": {
   "display_name": "myenv",
   "language": "python",
   "name": "python3"
  },
  "language_info": {
   "codemirror_mode": {
    "name": "ipython",
    "version": 3
   },
   "file_extension": ".py",
   "mimetype": "text/x-python",
   "name": "python",
   "nbconvert_exporter": "python",
   "pygments_lexer": "ipython3",
   "version": "3.12.0"
  }
 },
 "nbformat": 4,
 "nbformat_minor": 2
}
