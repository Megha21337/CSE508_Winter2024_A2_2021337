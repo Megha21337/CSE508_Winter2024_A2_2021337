{
 "cells": [
  {
   "cell_type": "code",
   "execution_count": 2,
   "metadata": {},
   "outputs": [
    {
     "name": "stdout",
     "output_type": "stream",
     "text": [
      "Requirement already satisfied: pandas in /home/iiitd/anaconda3/envs/myenv/lib/python3.12/site-packages (2.2.1)\n",
      "Requirement already satisfied: numpy<2,>=1.26.0 in /home/iiitd/anaconda3/envs/myenv/lib/python3.12/site-packages (from pandas) (1.26.2)\n",
      "Requirement already satisfied: python-dateutil>=2.8.2 in /home/iiitd/anaconda3/envs/myenv/lib/python3.12/site-packages (from pandas) (2.8.2)\n",
      "Requirement already satisfied: pytz>=2020.1 in /home/iiitd/anaconda3/envs/myenv/lib/python3.12/site-packages (from pandas) (2024.1)\n",
      "Requirement already satisfied: tzdata>=2022.7 in /home/iiitd/anaconda3/envs/myenv/lib/python3.12/site-packages (from pandas) (2024.1)\n",
      "Requirement already satisfied: six>=1.5 in /home/iiitd/anaconda3/envs/myenv/lib/python3.12/site-packages (from python-dateutil>=2.8.2->pandas) (1.16.0)\n",
      "Note: you may need to restart the kernel to use updated packages.\n"
     ]
    }
   ],
   "source": [
    "pip install pandas"
   ]
  },
  {
   "cell_type": "code",
   "execution_count": 3,
   "metadata": {},
   "outputs": [
    {
     "name": "stdout",
     "output_type": "stream",
     "text": [
      "Requirement already satisfied: numpy in /home/iiitd/anaconda3/envs/myenv/lib/python3.12/site-packages (1.26.2)\n",
      "Note: you may need to restart the kernel to use updated packages.\n"
     ]
    }
   ],
   "source": [
    "pip install numpy"
   ]
  },
  {
   "cell_type": "code",
   "execution_count": 4,
   "metadata": {},
   "outputs": [
    {
     "name": "stdout",
     "output_type": "stream",
     "text": [
      "Requirement already satisfied: tensorflow in /home/iiitd/anaconda3/envs/myenv/lib/python3.12/site-packages (2.16.1)\n",
      "Requirement already satisfied: absl-py>=1.0.0 in /home/iiitd/anaconda3/envs/myenv/lib/python3.12/site-packages (from tensorflow) (2.1.0)\n",
      "Requirement already satisfied: astunparse>=1.6.0 in /home/iiitd/anaconda3/envs/myenv/lib/python3.12/site-packages (from tensorflow) (1.6.3)\n",
      "Requirement already satisfied: flatbuffers>=23.5.26 in /home/iiitd/anaconda3/envs/myenv/lib/python3.12/site-packages (from tensorflow) (24.3.7)\n",
      "Requirement already satisfied: gast!=0.5.0,!=0.5.1,!=0.5.2,>=0.2.1 in /home/iiitd/anaconda3/envs/myenv/lib/python3.12/site-packages (from tensorflow) (0.5.4)\n",
      "Requirement already satisfied: google-pasta>=0.1.1 in /home/iiitd/anaconda3/envs/myenv/lib/python3.12/site-packages (from tensorflow) (0.2.0)\n",
      "Requirement already satisfied: h5py>=3.10.0 in /home/iiitd/anaconda3/envs/myenv/lib/python3.12/site-packages (from tensorflow) (3.10.0)\n",
      "Requirement already satisfied: libclang>=13.0.0 in /home/iiitd/anaconda3/envs/myenv/lib/python3.12/site-packages (from tensorflow) (16.0.6)\n",
      "Requirement already satisfied: ml-dtypes~=0.3.1 in /home/iiitd/anaconda3/envs/myenv/lib/python3.12/site-packages (from tensorflow) (0.3.2)\n",
      "Requirement already satisfied: opt-einsum>=2.3.2 in /home/iiitd/anaconda3/envs/myenv/lib/python3.12/site-packages (from tensorflow) (3.3.0)\n",
      "Requirement already satisfied: packaging in /home/iiitd/anaconda3/envs/myenv/lib/python3.12/site-packages (from tensorflow) (23.2)\n",
      "Requirement already satisfied: protobuf!=4.21.0,!=4.21.1,!=4.21.2,!=4.21.3,!=4.21.4,!=4.21.5,<5.0.0dev,>=3.20.3 in /home/iiitd/anaconda3/envs/myenv/lib/python3.12/site-packages (from tensorflow) (4.25.3)\n",
      "Requirement already satisfied: requests<3,>=2.21.0 in /home/iiitd/anaconda3/envs/myenv/lib/python3.12/site-packages (from tensorflow) (2.31.0)\n",
      "Requirement already satisfied: setuptools in /home/iiitd/anaconda3/envs/myenv/lib/python3.12/site-packages (from tensorflow) (68.2.2)\n",
      "Requirement already satisfied: six>=1.12.0 in /home/iiitd/anaconda3/envs/myenv/lib/python3.12/site-packages (from tensorflow) (1.16.0)\n",
      "Requirement already satisfied: termcolor>=1.1.0 in /home/iiitd/anaconda3/envs/myenv/lib/python3.12/site-packages (from tensorflow) (2.4.0)\n",
      "Requirement already satisfied: typing-extensions>=3.6.6 in /home/iiitd/anaconda3/envs/myenv/lib/python3.12/site-packages (from tensorflow) (4.8.0)\n",
      "Requirement already satisfied: wrapt>=1.11.0 in /home/iiitd/anaconda3/envs/myenv/lib/python3.12/site-packages (from tensorflow) (1.16.0)\n",
      "Requirement already satisfied: grpcio<2.0,>=1.24.3 in /home/iiitd/anaconda3/envs/myenv/lib/python3.12/site-packages (from tensorflow) (1.62.1)\n",
      "Requirement already satisfied: tensorboard<2.17,>=2.16 in /home/iiitd/anaconda3/envs/myenv/lib/python3.12/site-packages (from tensorflow) (2.16.2)\n",
      "Requirement already satisfied: keras>=3.0.0 in /home/iiitd/anaconda3/envs/myenv/lib/python3.12/site-packages (from tensorflow) (3.0.5)\n",
      "Requirement already satisfied: numpy<2.0.0,>=1.26.0 in /home/iiitd/anaconda3/envs/myenv/lib/python3.12/site-packages (from tensorflow) (1.26.2)\n",
      "Requirement already satisfied: wheel<1.0,>=0.23.0 in /home/iiitd/anaconda3/envs/myenv/lib/python3.12/site-packages (from astunparse>=1.6.0->tensorflow) (0.41.3)\n",
      "Requirement already satisfied: rich in /home/iiitd/anaconda3/envs/myenv/lib/python3.12/site-packages (from keras>=3.0.0->tensorflow) (13.7.1)\n",
      "Requirement already satisfied: namex in /home/iiitd/anaconda3/envs/myenv/lib/python3.12/site-packages (from keras>=3.0.0->tensorflow) (0.0.7)\n",
      "Requirement already satisfied: dm-tree in /home/iiitd/anaconda3/envs/myenv/lib/python3.12/site-packages (from keras>=3.0.0->tensorflow) (0.1.8)\n",
      "Requirement already satisfied: charset-normalizer<4,>=2 in /home/iiitd/anaconda3/envs/myenv/lib/python3.12/site-packages (from requests<3,>=2.21.0->tensorflow) (3.3.2)\n",
      "Requirement already satisfied: idna<4,>=2.5 in /home/iiitd/anaconda3/envs/myenv/lib/python3.12/site-packages (from requests<3,>=2.21.0->tensorflow) (3.6)\n",
      "Requirement already satisfied: urllib3<3,>=1.21.1 in /home/iiitd/anaconda3/envs/myenv/lib/python3.12/site-packages (from requests<3,>=2.21.0->tensorflow) (2.2.1)\n",
      "Requirement already satisfied: certifi>=2017.4.17 in /home/iiitd/anaconda3/envs/myenv/lib/python3.12/site-packages (from requests<3,>=2.21.0->tensorflow) (2024.2.2)\n",
      "Requirement already satisfied: markdown>=2.6.8 in /home/iiitd/anaconda3/envs/myenv/lib/python3.12/site-packages (from tensorboard<2.17,>=2.16->tensorflow) (3.5.2)\n",
      "Requirement already satisfied: tensorboard-data-server<0.8.0,>=0.7.0 in /home/iiitd/anaconda3/envs/myenv/lib/python3.12/site-packages (from tensorboard<2.17,>=2.16->tensorflow) (0.7.2)\n",
      "Requirement already satisfied: werkzeug>=1.0.1 in /home/iiitd/anaconda3/envs/myenv/lib/python3.12/site-packages (from tensorboard<2.17,>=2.16->tensorflow) (3.0.1)\n",
      "Requirement already satisfied: MarkupSafe>=2.1.1 in /home/iiitd/anaconda3/envs/myenv/lib/python3.12/site-packages (from werkzeug>=1.0.1->tensorboard<2.17,>=2.16->tensorflow) (2.1.5)\n",
      "Requirement already satisfied: markdown-it-py>=2.2.0 in /home/iiitd/anaconda3/envs/myenv/lib/python3.12/site-packages (from rich->keras>=3.0.0->tensorflow) (3.0.0)\n",
      "Requirement already satisfied: pygments<3.0.0,>=2.13.0 in /home/iiitd/anaconda3/envs/myenv/lib/python3.12/site-packages (from rich->keras>=3.0.0->tensorflow) (2.17.1)\n",
      "Requirement already satisfied: mdurl~=0.1 in /home/iiitd/anaconda3/envs/myenv/lib/python3.12/site-packages (from markdown-it-py>=2.2.0->rich->keras>=3.0.0->tensorflow) (0.1.2)\n",
      "Note: you may need to restart the kernel to use updated packages.\n"
     ]
    }
   ],
   "source": [
    "pip install tensorflow"
   ]
  },
  {
   "cell_type": "code",
   "execution_count": 5,
   "metadata": {},
   "outputs": [
    {
     "name": "stdout",
     "output_type": "stream",
     "text": [
      "Requirement already satisfied: opencv-python-headless in /home/iiitd/anaconda3/envs/myenv/lib/python3.12/site-packages (4.9.0.80)\n",
      "Requirement already satisfied: requests in /home/iiitd/anaconda3/envs/myenv/lib/python3.12/site-packages (2.31.0)\n",
      "Requirement already satisfied: numpy>=1.21.2 in /home/iiitd/anaconda3/envs/myenv/lib/python3.12/site-packages (from opencv-python-headless) (1.26.2)\n",
      "Requirement already satisfied: charset-normalizer<4,>=2 in /home/iiitd/anaconda3/envs/myenv/lib/python3.12/site-packages (from requests) (3.3.2)\n",
      "Requirement already satisfied: idna<4,>=2.5 in /home/iiitd/anaconda3/envs/myenv/lib/python3.12/site-packages (from requests) (3.6)\n",
      "Requirement already satisfied: urllib3<3,>=1.21.1 in /home/iiitd/anaconda3/envs/myenv/lib/python3.12/site-packages (from requests) (2.2.1)\n",
      "Requirement already satisfied: certifi>=2017.4.17 in /home/iiitd/anaconda3/envs/myenv/lib/python3.12/site-packages (from requests) (2024.2.2)\n",
      "Note: you may need to restart the kernel to use updated packages.\n"
     ]
    }
   ],
   "source": [
    "pip install opencv-python-headless requests"
   ]
  },
  {
   "cell_type": "markdown",
   "metadata": {},
   "source": [
    "DOWNLOADING IMAGES AND SAVING IN A NEW .CSV FILE"
   ]
  },
  {
   "cell_type": "code",
   "execution_count": 10,
   "metadata": {},
   "outputs": [],
   "source": [
    "import requests\n",
    "import os\n",
    "import pandas as pd\n",
    "\n",
    "df = pd.read_csv('A2_Data.csv')\n",
    "\n",
    "def download_images(urls):\n",
    "    downloaded_images = []\n",
    "    for url in urls:\n",
    "        try:\n",
    "            response = requests.get(url)\n",
    "            \n",
    "            img_name = url.split('/')[-1]\n",
    "            img_path = os.path.join(\"Downloaded_Images\", img_name)\n",
    "            with open(img_path, 'wb') as img_file:\n",
    "                img_file.write(response.content)\n",
    "            downloaded_images.append(img_path)\n",
    "        except Exception as e:\n",
    "            print(f\"Error downloading image from {url}: {e}\")\n",
    "    return downloaded_images\n",
    "\n",
    "\n",
    "downloaded_images_list = []\n",
    "for index, row in df.iterrows():\n",
    "    img_urls = eval(row['Image'])  \n",
    "    downloaded_imgs = download_images(img_urls)\n",
    "    downloaded_images_list.append(downloaded_imgs)\n",
    "\n",
    "df['Image'] = downloaded_images_list\n",
    "\n",
    "df.to_csv('A2_Downloaded_Images.csv', index=False)"
   ]
  },
  {
   "cell_type": "code",
   "execution_count": 11,
   "metadata": {},
   "outputs": [
    {
     "name": "stdout",
     "output_type": "stream",
     "text": [
      "Requirement already satisfied: opencv-python in /home/iiitd/anaconda3/envs/myenv/lib/python3.12/site-packages (4.9.0.80)\n",
      "Requirement already satisfied: numpy>=1.21.2 in /home/iiitd/anaconda3/envs/myenv/lib/python3.12/site-packages (from opencv-python) (1.26.2)\n",
      "Note: you may need to restart the kernel to use updated packages.\n"
     ]
    }
   ],
   "source": [
    "pip install opencv-python\n"
   ]
  },
  {
   "cell_type": "code",
   "execution_count": 12,
   "metadata": {},
   "outputs": [
    {
     "name": "stdout",
     "output_type": "stream",
     "text": [
      "Error processing image: Downloaded_Images/710a2Pyh5lL._SY88.jpg: OpenCV(4.9.0) /io/opencv/modules/imgproc/src/resize.cpp:4152: error: (-215:Assertion failed) !ssize.empty() in function 'resize'\n",
      "\n",
      "Error processing image: Downloaded_Images/718niQ1GEwL._SY88.jpg: OpenCV(4.9.0) /io/opencv/modules/imgproc/src/resize.cpp:4152: error: (-215:Assertion failed) !ssize.empty() in function 'resize'\n",
      "\n",
      "Error processing image: Downloaded_Images/71wHUWncMGL._SY88.jpg: OpenCV(4.9.0) /io/opencv/modules/imgproc/src/resize.cpp:4152: error: (-215:Assertion failed) !ssize.empty() in function 'resize'\n",
      "\n",
      "Error processing image: Downloaded_Images/816NMd0LexL._SY88.jpg: OpenCV(4.9.0) /io/opencv/modules/imgproc/src/resize.cpp:4152: error: (-215:Assertion failed) !ssize.empty() in function 'resize'\n",
      "\n",
      "Error processing image: Downloaded_Images/81SX3oAWbNL._SY88.jpg: OpenCV(4.9.0) /io/opencv/modules/imgproc/src/resize.cpp:4152: error: (-215:Assertion failed) !ssize.empty() in function 'resize'\n",
      "\n",
      "Error processing image: Downloaded_Images/71F3npeHUDL._SY88.jpg: OpenCV(4.9.0) /io/opencv/modules/imgproc/src/resize.cpp:4152: error: (-215:Assertion failed) !ssize.empty() in function 'resize'\n",
      "\n",
      "Error processing image: Downloaded_Images/71B8OOE5N8L._SY88.jpg: OpenCV(4.9.0) /io/opencv/modules/imgproc/src/resize.cpp:4152: error: (-215:Assertion failed) !ssize.empty() in function 'resize'\n",
      "\n",
      "Error processing image: Downloaded_Images/61OboZT-kcL._SY88.jpg: OpenCV(4.9.0) /io/opencv/modules/imgproc/src/resize.cpp:4152: error: (-215:Assertion failed) !ssize.empty() in function 'resize'\n",
      "\n"
     ]
    }
   ],
   "source": [
    "import os\n",
    "import cv2\n",
    "\n",
    "def preprocess_images(image_folder):\n",
    "    for img_file in os.listdir(image_folder):\n",
    "        img_path = os.path.join(image_folder, img_file)\n",
    "        if os.path.isfile(img_path):\n",
    "            try:\n",
    "                img = cv2.imread(img_path)\n",
    "                img = cv2.resize(img, (224, 224))\n",
    "                img = cv2.cvtColor(img, cv2.COLOR_BGR2RGB)\n",
    "                cv2.imwrite(img_path, img)\n",
    "            except Exception as e:\n",
    "                print(f\"Error processing image: {img_path}: {e}\")\n",
    "\n",
    "image_folder = \"Downloaded_Images\"\n",
    "preprocess_images(image_folder)\n",
    "\n"
   ]
  },
  {
   "cell_type": "markdown",
   "metadata": {},
   "source": [
    "Dropping Images that are not found"
   ]
  },
  {
   "cell_type": "code",
   "execution_count": 13,
   "metadata": {},
   "outputs": [
    {
     "name": "stdout",
     "output_type": "stream",
     "text": [
      "Dropped rows based on specified image filenames and updated the original CSV file.\n"
     ]
    }
   ],
   "source": [
    "import pandas as pd\n",
    "\n",
    "df = pd.read_csv('A2_Downloaded_Images.csv')\n",
    "files_to_drop = ['710a2Pyh5lL._SY88.jpg', '718niQ1GEwL._SY88.jpg', '71wHUWncMGL._SY88.jpg', '816NMd0LexL._SY88.jpg', '81SX3oAWbNL._SY88.jpg', '71F3npeHUDL._SY88.jpg', '71B8OOE5N8L._SY88.jpg', '61OboZT-kcL._SY88.jpg']\n",
    "indices_to_drop = []\n",
    "\n",
    "for index, row in df.iterrows():\n",
    "    if any(file_name in row['Image'] for file_name in files_to_drop):\n",
    "        indices_to_drop.append(index)\n",
    "df.drop(indices_to_drop, inplace=True)\n",
    "df.to_csv('A2_Downloaded_Images.csv', index=False)\n",
    "\n",
    "print(\"Dropped rows based on specified image filenames and updated the original CSV file.\")\n"
   ]
  }
 ],
 "metadata": {
  "kernelspec": {
   "display_name": "myenv",
   "language": "python",
   "name": "python3"
  },
  "language_info": {
   "codemirror_mode": {
    "name": "ipython",
    "version": 3
   },
   "file_extension": ".py",
   "mimetype": "text/x-python",
   "name": "python",
   "nbconvert_exporter": "python",
   "pygments_lexer": "ipython3",
   "version": "3.12.0"
  }
 },
 "nbformat": 4,
 "nbformat_minor": 2
}
